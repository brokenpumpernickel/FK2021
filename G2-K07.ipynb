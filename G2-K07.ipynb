{
 "cells": [
  {
   "cell_type": "code",
   "execution_count": 1,
   "id": "unexpected-chancellor",
   "metadata": {},
   "outputs": [],
   "source": [
    "import matplotlib.pyplot as plt\n",
    "import matplotlib.animation as animation\n",
    "from IPython.display import HTML\n",
    "import sympy as sp\n",
    "import numpy as np\n",
    "from scipy.optimize import fsolve\n",
    "from sympy.utilities.lambdify import lambdify\n",
    "sp.init_printing()"
   ]
  },
  {
   "cell_type": "code",
   "execution_count": 2,
   "id": "harmful-cross",
   "metadata": {},
   "outputs": [],
   "source": [
    "x = sp.Symbol('x', real = True)\n",
    "w = sp.Symbol('w', real = True, positive = True)\n",
    "h = sp.Symbol('hbar', real = True, positive = True)\n",
    "m = sp.Symbol('m', real = True, positive = True)\n",
    "A = sp.Symbol('A', real = True)\n",
    "p = sp.Function('psi')"
   ]
  },
  {
   "cell_type": "code",
   "execution_count": 3,
   "id": "perceived-locking",
   "metadata": {},
   "outputs": [
    {
     "data": {
      "image/png": "[encoded data removed]",
      "text/latex": [
       "$\\displaystyle \\hbar \\frac{d}{d x} \\psi{\\left(x \\right)} + m w x \\psi{\\left(x \\right)}$"
      ],
      "text/plain": [
       "  d                    \n",
       "h̅⋅──(ψ(x)) + m⋅w⋅x⋅ψ(x)\n",
       "  dx                   "
      ]
     },
     "execution_count": 3,
     "metadata": {},
     "output_type": "execute_result"
    }
   ],
   "source": [
    "h * p(x).diff(x)+ m * w * x * p(x)"
   ]
  },
  {
   "cell_type": "code",
   "execution_count": 4,
   "id": "dependent-practitioner",
   "metadata": {},
   "outputs": [
    {
     "data": {
      "image/png": "[encoded data removed]",
      "text/latex": [
       "$\\displaystyle \\psi{\\left(x \\right)} = e^{\\frac{C_{1} - \\frac{m w x^{2}}{2}}{\\hbar}}$"
      ],
      "text/plain": [
       "                  2\n",
       "             m⋅w⋅x \n",
       "        C₁ - ──────\n",
       "               2   \n",
       "        ───────────\n",
       "             h̅    \n",
       "ψ(x) = ℯ           "
      ]
     },
     "execution_count": 4,
     "metadata": {},
     "output_type": "execute_result"
    }
   ],
   "source": [
    "res = sp.dsolve(h * p(x).diff(x)+ m * w * x * p(x), p(x))\n",
    "res"
   ]
  },
  {
   "cell_type": "code",
   "execution_count": 5,
   "id": "three-continuity",
   "metadata": {},
   "outputs": [
    {
     "data": {
      "image/png": "[encoded data removed]",
      "text/latex": [
       "$\\displaystyle \\psi{\\left(x \\right)} = e^{\\frac{2 C_{1} - m w x^{2}}{2 \\hbar}}$"
      ],
      "text/plain": [
       "                    2\n",
       "        2⋅C₁ - m⋅w⋅x \n",
       "        ─────────────\n",
       "             2⋅h̅    \n",
       "ψ(x) = ℯ             "
      ]
     },
     "execution_count": 5,
     "metadata": {},
     "output_type": "execute_result"
    }
   ],
   "source": [
    "res.simplify()"
   ]
  },
  {
   "cell_type": "code",
   "execution_count": 6,
   "id": "continued-arrangement",
   "metadata": {},
   "outputs": [
    {
     "data": {
      "image/png": "[encoded data removed]",
      "text/latex": [
       "$\\displaystyle A e^{- \\frac{m w x^{2}}{2 \\hbar}}$"
      ],
      "text/plain": [
       "         2 \n",
       "   -m⋅w⋅x  \n",
       "   ────────\n",
       "     2⋅h̅  \n",
       "A⋅ℯ        "
      ]
     },
     "execution_count": 6,
     "metadata": {},
     "output_type": "execute_result"
    }
   ],
   "source": [
    "res = A * sp.exp(- m * w * x**2 / (2 * h))\n",
    "res"
   ]
  },
  {
   "cell_type": "code",
   "execution_count": 7,
   "id": "expanded-leone",
   "metadata": {},
   "outputs": [
    {
     "data": {
      "image/png": "[encoded data removed]",
      "text/latex": [
       "$\\displaystyle \\frac{\\sqrt{\\pi} A^{2} \\sqrt{\\hbar}}{\\sqrt{m} \\sqrt{w}}$"
      ],
      "text/plain": [
       "    2   \n",
       "√π⋅A ⋅√h̅\n",
       "────────\n",
       " √m⋅√w  "
      ]
     },
     "execution_count": 7,
     "metadata": {},
     "output_type": "execute_result"
    }
   ],
   "source": [
    "sp.integrate(res**2, (x, -sp.oo, sp.oo))"
   ]
  },
  {
   "cell_type": "code",
   "execution_count": 14,
   "id": "mexican-embassy",
   "metadata": {},
   "outputs": [
    {
     "data": {
      "image/png": "[encoded data removed]",
      "text/latex": [
       "$\\displaystyle e^{- \\frac{m w x^{2}}{2 \\hbar}} \\sqrt[4]{\\frac{m w}{\\pi \\hbar}}$"
      ],
      "text/plain": [
       "       2          \n",
       " -m⋅w⋅x           \n",
       " ────────      1/4\n",
       "   2⋅h̅   ⎛m⋅w⎞   \n",
       "ℯ        ⋅⎜───⎟   \n",
       "          ⎝π⋅h̅⎠   "
      ]
     },
     "execution_count": 14,
     "metadata": {},
     "output_type": "execute_result"
    }
   ],
   "source": [
    "psi0 = sp.UnevaluatedExpr(m * w / (sp.pi * h))**sp.Rational(1, 4) * sp.exp(- m * w * x**2 / (2 * h))\n",
    "psi0"
   ]
  },
  {
   "cell_type": "code",
   "execution_count": 18,
   "id": "impossible-import",
   "metadata": {},
   "outputs": [
    {
     "data": {
      "image/png": "[encoded data removed]",
      "text/latex": [
       "$\\displaystyle \\frac{\\sqrt[4]{m} \\sqrt[4]{w} e^{- \\frac{m w x^{2}}{2 \\hbar}}}{\\sqrt[4]{\\pi} \\sqrt[4]{\\hbar}}$"
      ],
      "text/plain": [
       "                   2 \n",
       "             -m⋅w⋅x  \n",
       "             ────────\n",
       "4 ___ 4 ___    2⋅h̅  \n",
       "╲╱ m ⋅╲╱ w ⋅ℯ        \n",
       "─────────────────────\n",
       "     4 ___ 4 ___     \n",
       "     ╲╱ π ⋅╲╱ h̅     "
      ]
     },
     "execution_count": 18,
     "metadata": {},
     "output_type": "execute_result"
    }
   ],
   "source": [
    "psi0.doit()"
   ]
  },
  {
   "cell_type": "code",
   "execution_count": 9,
   "id": "centered-technician",
   "metadata": {},
   "outputs": [],
   "source": [
    "def aplus(psi):\n",
    "    return (- h * psi.diff(x) + m * w * x * psi) / sp.sqrt(2 * m * h * w)"
   ]
  },
  {
   "cell_type": "code",
   "execution_count": 10,
   "id": "external-smile",
   "metadata": {},
   "outputs": [],
   "source": [
    "def aminus(psi):\n",
    "    return (+ h * psi.diff(x) + m * w * x * psi) / sp.sqrt(2 * m * h * w)"
   ]
  },
  {
   "cell_type": "code",
   "execution_count": 13,
   "id": "compliant-clause",
   "metadata": {},
   "outputs": [
    {
     "data": {
      "image/png": "[encoded data removed]",
      "text/latex": [
       "$\\displaystyle \\frac{\\sqrt{2} m^{\\frac{3}{4}} w^{\\frac{3}{4}} x e^{- \\frac{m w x^{2}}{2 \\hbar}}}{\\sqrt[4]{\\pi} \\hbar^{\\frac{3}{4}}}$"
      ],
      "text/plain": [
       "                      2 \n",
       "                -m⋅w⋅x  \n",
       "                ────────\n",
       "    3/4  3/4      2⋅h̅  \n",
       "√2⋅m   ⋅w   ⋅x⋅ℯ        \n",
       "────────────────────────\n",
       "       4 ___  3/4       \n",
       "      ╲╱ π ⋅h̅          "
      ]
     },
     "execution_count": 13,
     "metadata": {},
     "output_type": "execute_result"
    }
   ],
   "source": [
    "aplus(psi0.doit())"
   ]
  },
  {
   "cell_type": "code",
   "execution_count": 15,
   "id": "julian-event",
   "metadata": {},
   "outputs": [
    {
     "data": {
      "image/png": "[encoded data removed]",
      "text/latex": [
       "$\\displaystyle 0$"
      ],
      "text/plain": [
       "0"
      ]
     },
     "execution_count": 15,
     "metadata": {},
     "output_type": "execute_result"
    }
   ],
   "source": [
    "aminus(psi0.doit())"
   ]
  },
  {
   "cell_type": "code",
   "execution_count": 17,
   "id": "minus-level",
   "metadata": {},
   "outputs": [
    {
     "data": {
      "image/png": "[encoded data removed]",
      "text/latex": [
       "$\\displaystyle \\frac{\\sqrt[4]{m} \\sqrt[4]{w} e^{- \\frac{m w x^{2}}{2 \\hbar}}}{\\sqrt[4]{\\pi} \\sqrt[4]{\\hbar}}$"
      ],
      "text/plain": [
       "                   2 \n",
       "             -m⋅w⋅x  \n",
       "             ────────\n",
       "4 ___ 4 ___    2⋅h̅  \n",
       "╲╱ m ⋅╲╱ w ⋅ℯ        \n",
       "─────────────────────\n",
       "     4 ___ 4 ___     \n",
       "     ╲╱ π ⋅╲╱ h̅     "
      ]
     },
     "execution_count": 17,
     "metadata": {},
     "output_type": "execute_result"
    }
   ],
   "source": [
    "aminus(aplus(psi0.doit()).doit()).simplify()"
   ]
  },
  {
   "cell_type": "code",
   "execution_count": 19,
   "id": "industrial-surfing",
   "metadata": {},
   "outputs": [],
   "source": [
    "def psip1(psi, n):\n",
    "    return aplus(psi) / sp.sqrt(n + 1)"
   ]
  },
  {
   "cell_type": "code",
   "execution_count": 20,
   "id": "technical-caribbean",
   "metadata": {},
   "outputs": [],
   "source": [
    "def psim1(psi, n):\n",
    "    return aminus(psi) / sp.sqrt(n)"
   ]
  },
  {
   "cell_type": "code",
   "execution_count": 21,
   "id": "convertible-queens",
   "metadata": {},
   "outputs": [
    {
     "data": {
      "image/png": "[encoded data removed]",
      "text/latex": [
       "$\\displaystyle \\frac{\\sqrt{2} m^{\\frac{3}{4}} w^{\\frac{3}{4}} x e^{- \\frac{m w x^{2}}{2 \\hbar}}}{\\sqrt[4]{\\pi} \\hbar^{\\frac{3}{4}}}$"
      ],
      "text/plain": [
       "                      2 \n",
       "                -m⋅w⋅x  \n",
       "                ────────\n",
       "    3/4  3/4      2⋅h̅  \n",
       "√2⋅m   ⋅w   ⋅x⋅ℯ        \n",
       "────────────────────────\n",
       "       4 ___  3/4       \n",
       "      ╲╱ π ⋅h̅          "
      ]
     },
     "execution_count": 21,
     "metadata": {},
     "output_type": "execute_result"
    }
   ],
   "source": [
    "psi1 = psip1(psi0.doit(), 0)\n",
    "psi1"
   ]
  },
  {
   "cell_type": "code",
   "execution_count": 23,
   "id": "fuzzy-operation",
   "metadata": {},
   "outputs": [
    {
     "data": {
      "image/png": "[encoded data removed]",
      "text/latex": [
       "$\\displaystyle \\frac{\\sqrt{2} \\sqrt[4]{m} \\sqrt[4]{w} \\left(- \\frac{\\hbar}{2} + m w x^{2}\\right) e^{- \\frac{m w x^{2}}{2 \\hbar}}}{\\sqrt[4]{\\pi} \\hbar^{\\frac{5}{4}}}$"
      ],
      "text/plain": [
       "                                     2 \n",
       "                               -m⋅w⋅x  \n",
       "                               ────────\n",
       "   4 ___ 4 ___ ⎛  h̅        2⎞    2⋅h̅  \n",
       "√2⋅╲╱ m ⋅╲╱ w ⋅⎜- ─ + m⋅w⋅x ⎟⋅ℯ        \n",
       "               ⎝  2         ⎠          \n",
       "───────────────────────────────────────\n",
       "               4 ___  5/4              \n",
       "              ╲╱ π ⋅h̅                 "
      ]
     },
     "execution_count": 23,
     "metadata": {},
     "output_type": "execute_result"
    }
   ],
   "source": [
    "psi2 = psip1(psi1, 1)\n",
    "psi2.simplify()"
   ]
  },
  {
   "cell_type": "code",
   "execution_count": 24,
   "id": "necessary-coordinator",
   "metadata": {},
   "outputs": [
    {
     "data": {
      "image/png": "[encoded data removed]",
      "text/latex": [
       "$\\displaystyle \\frac{\\sqrt{3} m^{\\frac{3}{4}} w^{\\frac{3}{4}} x \\left(- 3 \\hbar + 2 m w x^{2}\\right) e^{- \\frac{m w x^{2}}{2 \\hbar}}}{3 \\sqrt[4]{\\pi} \\hbar^{\\frac{7}{4}}}$"
      ],
      "text/plain": [
       "                                        2 \n",
       "                                  -m⋅w⋅x  \n",
       "                                  ────────\n",
       "    3/4  3/4   ⎛              2⎞    2⋅h̅  \n",
       "√3⋅m   ⋅w   ⋅x⋅⎝-3⋅h̅ + 2⋅m⋅w⋅x ⎠⋅ℯ        \n",
       "──────────────────────────────────────────\n",
       "                 4 ___  7/4               \n",
       "              3⋅╲╱ π ⋅h̅                  "
      ]
     },
     "execution_count": 24,
     "metadata": {},
     "output_type": "execute_result"
    }
   ],
   "source": [
    "psi3 = psip1(psi2, 2)\n",
    "psi3.simplify()"
   ]
  },
  {
   "cell_type": "code",
   "execution_count": 25,
   "id": "registered-covering",
   "metadata": {},
   "outputs": [
    {
     "data": {
      "image/png": "[encoded data removed]",
      "text/latex": [
       "$\\displaystyle 1$"
      ],
      "text/plain": [
       "1"
      ]
     },
     "execution_count": 25,
     "metadata": {},
     "output_type": "execute_result"
    }
   ],
   "source": [
    "sp.integrate(psi3**2, (x, -sp.oo, sp.oo))"
   ]
  },
  {
   "cell_type": "code",
   "execution_count": 26,
   "id": "rotary-macro",
   "metadata": {},
   "outputs": [],
   "source": [
    "xs = np.linspace(-5, 5, 1000)"
   ]
  },
  {
   "cell_type": "code",
   "execution_count": 27,
   "id": "invalid-thompson",
   "metadata": {},
   "outputs": [],
   "source": [
    "f = lambdify(x, psi0.subs({h: 1, m: 1, w: 1}))"
   ]
  },
  {
   "cell_type": "code",
   "execution_count": 33,
   "id": "agricultural-heath",
   "metadata": {},
   "outputs": [
    {
     "data": {
      "text/plain": [
       "[<matplotlib.lines.Line2D at 0x18422830c10>]"
      ]
     },
     "execution_count": 33,
     "metadata": {},
     "output_type": "execute_result"
    },
    {
     "data": {
      "image/png": "[encoded data removed]",
      "text/plain": [
       "<Figure size 432x288 with 1 Axes>"
      ]
     },
     "metadata": {
      "needs_background": "light"
     },
     "output_type": "display_data"
    }
   ],
   "source": [
    "plt.plot(xs, lambdify(x, psi0.subs({h: 1, m: 1, w: 1}))(xs))\n",
    "plt.plot(xs, lambdify(x, psi1.subs({h: 1, m: 1, w: 1}))(xs))\n",
    "plt.plot(xs, lambdify(x, psi2.subs({h: 1, m: 1, w: 1}))(xs))\n",
    "plt.plot(xs, lambdify(x, psi3.subs({h: 1, m: 1, w: 1}))(xs))"
   ]
  },
  {
   "cell_type": "code",
   "execution_count": 41,
   "id": "consecutive-replacement",
   "metadata": {},
   "outputs": [
    {
     "data": {
      "text/plain": [
       "<matplotlib.collections.LineCollection at 0x1842461bb80>"
      ]
     },
     "execution_count": 41,
     "metadata": {},
     "output_type": "execute_result"
    },
    {
     "data": {
      "image/png": "[encoded data removed]",
      "text/plain": [
       "<Figure size 432x288 with 1 Axes>"
      ]
     },
     "metadata": {
      "needs_background": "light"
     },
     "output_type": "display_data"
    }
   ],
   "source": [
    "plt.plot(xs, lambdify(x, psi0.subs({h: 1, m: 1, w: 1})**2)(xs))\n",
    "plt.vlines([-np.sqrt(1), np.sqrt(1)], 0, 0.5, 'C4')\n",
    "#plt.plot(xs, lambdify(x, psi1.subs({h: 1, m: 1, w: 1})**2)(xs))\n",
    "#plt.plot(xs, lambdify(x, psi2.subs({h: 1, m: 1, w: 1})**2)(xs))\n",
    "#plt.plot(xs, lambdify(x, psi3.subs({h: 1, m: 1, w: 1})**2)(xs))"
   ]
  }
 ],
 "metadata": {
  "kernelspec": {
   "display_name": "Python 3",
   "language": "python",
   "name": "python3"
  },
  "language_info": {
   "codemirror_mode": {
    "name": "ipython",
    "version": 3
   },
   "file_extension": ".py",
   "mimetype": "text/x-python",
   "name": "python",
   "nbconvert_exporter": "python",
   "pygments_lexer": "ipython3",
   "version": "3.8.8"
  }
 },
 "nbformat": 4,
 "nbformat_minor": 5
}
