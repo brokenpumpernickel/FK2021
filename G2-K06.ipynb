{
 "cells": [
  {
   "cell_type": "code",
   "execution_count": 4,
   "id": "attached-vintage",
   "metadata": {},
   "outputs": [],
   "source": [
    "import sympy as sp\n",
    "sp.init_printing()"
   ]
  },
  {
   "cell_type": "markdown",
   "id": "athletic-daniel",
   "metadata": {},
   "source": [
    "# MN24"
   ]
  },
  {
   "cell_type": "code",
   "execution_count": 5,
   "id": "casual-chuck",
   "metadata": {},
   "outputs": [
    {
     "data": {
      "image/png": "[encoded data removed]",
      "text/latex": [
       "$\\displaystyle \\left( \\left[\\begin{matrix}5.0 i\\\\2\\\\- 1.0 i\\end{matrix}\\right], \\  \\left[\\begin{matrix}3\\\\8.0 i\\\\- 9.0 i\\end{matrix}\\right]\\right)$"
      ],
      "text/plain": [
       "⎛⎡5.0⋅ⅈ ⎤  ⎡  3   ⎤⎞\n",
       "⎜⎢      ⎥  ⎢      ⎥⎟\n",
       "⎜⎢  2   ⎥, ⎢8.0⋅ⅈ ⎥⎟\n",
       "⎜⎢      ⎥  ⎢      ⎥⎟\n",
       "⎝⎣-1.0⋅ⅈ⎦  ⎣-9.0⋅ⅈ⎦⎠"
      ]
     },
     "execution_count": 5,
     "metadata": {},
     "output_type": "execute_result"
    }
   ],
   "source": [
    "psi = sp.Matrix([5.j, 2, -1.j])\n",
    "xi = sp.Matrix([3, 8.j, -9.j])\n",
    "psi, xi"
   ]
  },
  {
   "cell_type": "code",
   "execution_count": 8,
   "id": "virgin-signature",
   "metadata": {},
   "outputs": [
    {
     "data": {
      "image/png": "[encoded data removed]",
      "text/latex": [
       "$\\displaystyle \\left[\\begin{matrix}30.0\\end{matrix}\\right]$"
      ],
      "text/plain": [
       "[30.0]"
      ]
     },
     "execution_count": 8,
     "metadata": {},
     "output_type": "execute_result"
    }
   ],
   "source": [
    "psi.transpose().conjugate() * psi"
   ]
  },
  {
   "cell_type": "code",
   "execution_count": 9,
   "id": "modular-interference",
   "metadata": {},
   "outputs": [
    {
     "data": {
      "image/png": "[encoded data removed]",
      "text/latex": [
       "$\\displaystyle 5.47722557505166$"
      ],
      "text/plain": [
       "5.47722557505166"
      ]
     },
     "execution_count": 9,
     "metadata": {},
     "output_type": "execute_result"
    }
   ],
   "source": [
    "psi.norm()"
   ]
  },
  {
   "cell_type": "code",
   "execution_count": 11,
   "id": "moral-yesterday",
   "metadata": {},
   "outputs": [
    {
     "data": {
      "image/png": "[encoded data removed]",
      "text/latex": [
       "$\\displaystyle 5.47722557505166$"
      ],
      "text/plain": [
       "5.47722557505166"
      ]
     },
     "execution_count": 11,
     "metadata": {},
     "output_type": "execute_result"
    }
   ],
   "source": [
    "sp.sqrt(30)"
   ]
  },
  {
   "cell_type": "code",
   "execution_count": 14,
   "id": "initial-penetration",
   "metadata": {},
   "outputs": [
    {
     "data": {
      "image/png": "[encoded data removed]",
      "text/latex": [
       "$\\displaystyle \\frac{\\sqrt{30} \\left[\\begin{matrix}5.0 i\\\\2\\\\- 1.0 i\\end{matrix}\\right]}{30}$"
      ],
      "text/plain": [
       "    ⎡5.0⋅ⅈ ⎤\n",
       "    ⎢      ⎥\n",
       "√30⋅⎢  2   ⎥\n",
       "    ⎢      ⎥\n",
       "    ⎣-1.0⋅ⅈ⎦\n",
       "────────────\n",
       "     30     "
      ]
     },
     "execution_count": 14,
     "metadata": {},
     "output_type": "execute_result"
    }
   ],
   "source": [
    "psinorm = sp.UnevaluatedExpr(psi) / sp.sqrt(30)\n",
    "psinorm"
   ]
  },
  {
   "cell_type": "code",
   "execution_count": 18,
   "id": "alien-burner",
   "metadata": {},
   "outputs": [
    {
     "data": {
      "image/png": "[encoded data removed]",
      "text/latex": [
       "$\\displaystyle \\left[\\begin{matrix}0.166666666666667 \\sqrt{30} i\\\\\\frac{\\sqrt{30}}{15}\\\\- 0.0333333333333333 \\sqrt{30} i\\end{matrix}\\right]$"
      ],
      "text/plain": [
       "⎡ 0.166666666666667⋅√30⋅ⅈ ⎤\n",
       "⎢                         ⎥\n",
       "⎢           √30           ⎥\n",
       "⎢           ───           ⎥\n",
       "⎢            15           ⎥\n",
       "⎢                         ⎥\n",
       "⎣-0.0333333333333333⋅√30⋅ⅈ⎦"
      ]
     },
     "execution_count": 18,
     "metadata": {},
     "output_type": "execute_result"
    }
   ],
   "source": [
    "psinorm.doit()"
   ]
  },
  {
   "cell_type": "code",
   "execution_count": 16,
   "id": "perceived-national",
   "metadata": {},
   "outputs": [
    {
     "data": {
      "image/png": "[encoded data removed]",
      "text/latex": [
       "$\\displaystyle \\left[\\begin{matrix}0.912870929175277 i\\\\0.365148371670111\\\\- 0.182574185835055 i\\end{matrix}\\right]$"
      ],
      "text/plain": [
       "⎡0.912870929175277⋅ⅈ ⎤\n",
       "⎢                    ⎥\n",
       "⎢ 0.365148371670111  ⎥\n",
       "⎢                    ⎥\n",
       "⎣-0.182574185835055⋅ⅈ⎦"
      ]
     },
     "execution_count": 16,
     "metadata": {},
     "output_type": "execute_result"
    }
   ],
   "source": [
    "psi.normalized()"
   ]
  },
  {
   "cell_type": "code",
   "execution_count": 21,
   "id": "aging-chapter",
   "metadata": {},
   "outputs": [
    {
     "data": {
      "image/png": "[encoded data removed]",
      "text/latex": [
       "$\\displaystyle \\left[\\begin{matrix}9.0 + 1.0 i\\end{matrix}\\right]$"
      ],
      "text/plain": [
       "[9.0 + 1.0⋅ⅈ]"
      ]
     },
     "execution_count": 21,
     "metadata": {},
     "output_type": "execute_result"
    }
   ],
   "source": [
    "psi.transpose().conjugate() * xi"
   ]
  },
  {
   "cell_type": "code",
   "execution_count": 23,
   "id": "attached-sister",
   "metadata": {},
   "outputs": [
    {
     "data": {
      "image/png": "[encoded data removed]",
      "text/latex": [
       "$\\displaystyle 9.0 + 1.0 i$"
      ],
      "text/plain": [
       "9.0 + 1.0⋅ⅈ"
      ]
     },
     "execution_count": 23,
     "metadata": {},
     "output_type": "execute_result"
    }
   ],
   "source": [
    "psi.conjugate().dot(xi)"
   ]
  },
  {
   "cell_type": "markdown",
   "id": "flexible-bumper",
   "metadata": {},
   "source": [
    "# MN28"
   ]
  },
  {
   "cell_type": "code",
   "execution_count": 24,
   "id": "coordinated-lunch",
   "metadata": {},
   "outputs": [
    {
     "data": {
      "image/png": "[encoded data removed]",
      "text/latex": [
       "$\\displaystyle \\left[\\begin{matrix}1 & 0 & 0\\\\0 & \\frac{3}{2} & - \\frac{1}{2}\\\\0 & - \\frac{1}{2} & \\frac{3}{2}\\end{matrix}\\right]$"
      ],
      "text/plain": [
       "⎡1   0     0  ⎤\n",
       "⎢             ⎥\n",
       "⎢0  3/2   -1/2⎥\n",
       "⎢             ⎥\n",
       "⎣0  -1/2  3/2 ⎦"
      ]
     },
     "execution_count": 24,
     "metadata": {},
     "output_type": "execute_result"
    }
   ],
   "source": [
    "A = sp.Matrix([[2, 0, 0], [0, 3, -1], [0, -1, 3]]) / 2\n",
    "A"
   ]
  },
  {
   "cell_type": "code",
   "execution_count": 25,
   "id": "minimal-rebecca",
   "metadata": {},
   "outputs": [
    {
     "data": {
      "image/png": "[encoded data removed]",
      "text/latex": [
       "$\\displaystyle \\left\\{ 1 : 2, \\  2 : 1\\right\\}$"
      ],
      "text/plain": [
       "{1: 2, 2: 1}"
      ]
     },
     "execution_count": 25,
     "metadata": {},
     "output_type": "execute_result"
    }
   ],
   "source": [
    "A.eigenvals()"
   ]
  },
  {
   "cell_type": "code",
   "execution_count": 27,
   "id": "annoying-luther",
   "metadata": {},
   "outputs": [
    {
     "data": {
      "image/png": "[encoded data removed]",
      "text/latex": [
       "$\\displaystyle \\left[ \\left( 1, \\  2, \\  \\left[ \\left[\\begin{matrix}1\\\\0\\\\0\\end{matrix}\\right], \\  \\left[\\begin{matrix}0\\\\1\\\\1\\end{matrix}\\right]\\right]\\right), \\  \\left( 2, \\  1, \\  \\left[ \\left[\\begin{matrix}0\\\\-1\\\\1\\end{matrix}\\right]\\right]\\right)\\right]$"
      ],
      "text/plain": [
       "⎡⎛      ⎡⎡1⎤  ⎡0⎤⎤⎞  ⎛      ⎡⎡0 ⎤⎤⎞⎤\n",
       "⎢⎜      ⎢⎢ ⎥  ⎢ ⎥⎥⎟  ⎜      ⎢⎢  ⎥⎥⎟⎥\n",
       "⎢⎜1, 2, ⎢⎢0⎥, ⎢1⎥⎥⎟, ⎜2, 1, ⎢⎢-1⎥⎥⎟⎥\n",
       "⎢⎜      ⎢⎢ ⎥  ⎢ ⎥⎥⎟  ⎜      ⎢⎢  ⎥⎥⎟⎥\n",
       "⎣⎝      ⎣⎣0⎦  ⎣1⎦⎦⎠  ⎝      ⎣⎣1 ⎦⎦⎠⎦"
      ]
     },
     "execution_count": 27,
     "metadata": {},
     "output_type": "execute_result"
    }
   ],
   "source": [
    "evecs = A.eigenvects()\n",
    "evecs"
   ]
  },
  {
   "cell_type": "code",
   "execution_count": 30,
   "id": "magnetic-shell",
   "metadata": {},
   "outputs": [
    {
     "data": {
      "image/png": "[encoded data removed]",
      "text/latex": [
       "$\\displaystyle \\left( \\left[\\begin{matrix}1\\\\0\\\\0\\end{matrix}\\right], \\  \\left[\\begin{matrix}0\\\\\\frac{\\sqrt{2}}{2}\\\\\\frac{\\sqrt{2}}{2}\\end{matrix}\\right], \\  \\left[\\begin{matrix}0\\\\- \\frac{\\sqrt{2}}{2}\\\\\\frac{\\sqrt{2}}{2}\\end{matrix}\\right]\\right)$"
      ],
      "text/plain": [
       "⎛     ⎡0 ⎤  ⎡ 0  ⎤⎞\n",
       "⎜     ⎢  ⎥  ⎢    ⎥⎟\n",
       "⎜⎡1⎤  ⎢√2⎥  ⎢-√2 ⎥⎟\n",
       "⎜⎢ ⎥  ⎢──⎥  ⎢────⎥⎟\n",
       "⎜⎢0⎥, ⎢2 ⎥, ⎢ 2  ⎥⎟\n",
       "⎜⎢ ⎥  ⎢  ⎥  ⎢    ⎥⎟\n",
       "⎜⎣0⎦  ⎢√2⎥  ⎢ √2 ⎥⎟\n",
       "⎜     ⎢──⎥  ⎢ ── ⎥⎟\n",
       "⎝     ⎣2 ⎦  ⎣ 2  ⎦⎠"
      ]
     },
     "execution_count": 30,
     "metadata": {},
     "output_type": "execute_result"
    }
   ],
   "source": [
    "v11 = evecs[0][2][0].normalized()\n",
    "v12 = evecs[0][2][1].normalized()\n",
    "v2 = evecs[1][2][0].normalized()\n",
    "v11, v12, v2"
   ]
  },
  {
   "cell_type": "code",
   "execution_count": 33,
   "id": "dietary-uncertainty",
   "metadata": {},
   "outputs": [
    {
     "data": {
      "image/png": "[encoded data removed]",
      "text/latex": [
       "$\\displaystyle \\left[\\begin{matrix}0.916666666666667\\end{matrix}\\right]$"
      ],
      "text/plain": [
       "[0.916666666666667]"
      ]
     },
     "execution_count": 33,
     "metadata": {},
     "output_type": "execute_result"
    }
   ],
   "source": [
    "p1 = sp.Abs(v11.transpose().conjugate() * psinorm.doit())**2 + sp.Abs(v12.transpose().conjugate() * psinorm.doit())**2\n",
    "p1"
   ]
  },
  {
   "cell_type": "code",
   "execution_count": 34,
   "id": "neutral-south",
   "metadata": {},
   "outputs": [
    {
     "data": {
      "image/png": "[encoded data removed]",
      "text/latex": [
       "$\\displaystyle 0.916666666666667$"
      ],
      "text/plain": [
       "0.9166666666666666"
      ]
     },
     "execution_count": 34,
     "metadata": {},
     "output_type": "execute_result"
    }
   ],
   "source": [
    "11 / 12"
   ]
  },
  {
   "cell_type": "code",
   "execution_count": 35,
   "id": "progressive-appearance",
   "metadata": {},
   "outputs": [
    {
     "data": {
      "image/png": "[encoded data removed]",
      "text/latex": [
       "$\\displaystyle \\left[\\begin{matrix}0.0833333333333333\\end{matrix}\\right]$"
      ],
      "text/plain": [
       "[0.0833333333333333]"
      ]
     },
     "execution_count": 35,
     "metadata": {},
     "output_type": "execute_result"
    }
   ],
   "source": [
    "p2 = sp.Abs(v2.transpose().conjugate() * psinorm.doit())**2\n",
    "p2"
   ]
  },
  {
   "cell_type": "code",
   "execution_count": 36,
   "id": "sharing-kazakhstan",
   "metadata": {},
   "outputs": [
    {
     "data": {
      "image/png": "[encoded data removed]",
      "text/latex": [
       "$\\displaystyle 0.0833333333333333$"
      ],
      "text/plain": [
       "0.08333333333333333"
      ]
     },
     "execution_count": 36,
     "metadata": {},
     "output_type": "execute_result"
    }
   ],
   "source": [
    "1 / 12"
   ]
  },
  {
   "cell_type": "code",
   "execution_count": 37,
   "id": "consecutive-portuguese",
   "metadata": {},
   "outputs": [
    {
     "data": {
      "image/png": "[encoded data removed]",
      "text/latex": [
       "$\\displaystyle \\left[\\begin{matrix}1.0\\end{matrix}\\right]$"
      ],
      "text/plain": [
       "[1.0]"
      ]
     },
     "execution_count": 37,
     "metadata": {},
     "output_type": "execute_result"
    }
   ],
   "source": [
    "p1 + p2"
   ]
  }
 ],
 "metadata": {
  "kernelspec": {
   "display_name": "Python 3",
   "language": "python",
   "name": "python3"
  },
  "language_info": {
   "codemirror_mode": {
    "name": "ipython",
    "version": 3
   },
   "file_extension": ".py",
   "mimetype": "text/x-python",
   "name": "python",
   "nbconvert_exporter": "python",
   "pygments_lexer": "ipython3",
   "version": "3.8.8"
  }
 },
 "nbformat": 4,
 "nbformat_minor": 5
}
