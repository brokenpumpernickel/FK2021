{
 "cells": [
  {
   "cell_type": "code",
   "execution_count": 1,
   "id": "chemical-daisy",
   "metadata": {},
   "outputs": [],
   "source": [
    "import sympy as sp\n",
    "sp.init_printing()\n",
    "import matplotlib.pyplot as plt\n",
    "import matplotlib.animation as animation\n",
    "from IPython.display import HTML\n",
    "import numpy as np\n",
    "from scipy.optimize import fsolve\n",
    "from sympy.utilities.lambdify import lambdify"
   ]
  },
  {
   "cell_type": "code",
   "execution_count": 2,
   "id": "lasting-israel",
   "metadata": {},
   "outputs": [],
   "source": [
    "x = sp.Symbol('x', real = True)\n",
    "k = sp.Symbol('k', real = True)\n",
    "h = sp.Symbol('kbar', real = True, positive = True)\n",
    "a = sp.Symbol('a', real = True, positive = True)\n",
    "A = sp.Symbol('A')\n",
    "m = sp.Symbol('m', real = True, positive = True)\n",
    "t = sp.Symbol('t', real = True, positive = True)"
   ]
  },
  {
   "cell_type": "code",
   "execution_count": 4,
   "id": "pacific-crime",
   "metadata": {},
   "outputs": [
    {
     "data": {
      "image/png": "[encoded data removed]",
      "text/latex": [
       "$\\displaystyle A e^{- a x^{2}}$"
      ],
      "text/plain": [
       "       2\n",
       "   -a⋅x \n",
       "A⋅ℯ     "
      ]
     },
     "execution_count": 4,
     "metadata": {},
     "output_type": "execute_result"
    }
   ],
   "source": [
    "Psi0 = A * sp.exp(-a*x**2)\n",
    "Psi0"
   ]
  },
  {
   "cell_type": "code",
   "execution_count": 5,
   "id": "ethical-combat",
   "metadata": {},
   "outputs": [
    {
     "data": {
      "image/png": "[encoded data removed]",
      "text/latex": [
       "$\\displaystyle A e^{- 2 a x^{2}} \\overline{A}$"
      ],
      "text/plain": [
       "         2  \n",
       "   -2⋅a⋅x  _\n",
       "A⋅ℯ       ⋅A"
      ]
     },
     "execution_count": 5,
     "metadata": {},
     "output_type": "execute_result"
    }
   ],
   "source": [
    "Psi0 * Psi0.conjugate()"
   ]
  },
  {
   "cell_type": "code",
   "execution_count": 8,
   "id": "acoustic-demographic",
   "metadata": {},
   "outputs": [
    {
     "data": {
      "image/png": "[encoded data removed]",
      "text/latex": [
       "$\\displaystyle \\frac{\\sqrt{2} \\sqrt{\\pi} A \\overline{A}}{2 \\sqrt{a}}$"
      ],
      "text/plain": [
       "        _\n",
       "√2⋅√π⋅A⋅A\n",
       "─────────\n",
       "   2⋅√a  "
      ]
     },
     "execution_count": 8,
     "metadata": {},
     "output_type": "execute_result"
    }
   ],
   "source": [
    "sp.integrate(Psi0 * Psi0.conjugate(), (x, -sp.oo, sp.oo)).simplify()"
   ]
  },
  {
   "cell_type": "code",
   "execution_count": 11,
   "id": "changing-underwear",
   "metadata": {},
   "outputs": [
    {
     "data": {
      "image/png": "[encoded data removed]",
      "text/latex": [
       "$\\displaystyle \\frac{\\sqrt[4]{2} \\sqrt[4]{a} e^{- a x^{2}}}{\\sqrt[4]{\\pi}}$"
      ],
      "text/plain": [
       "                 2\n",
       "4 ___ 4 ___  -a⋅x \n",
       "╲╱ 2 ⋅╲╱ a ⋅ℯ     \n",
       "──────────────────\n",
       "      4 ___       \n",
       "      ╲╱ π        "
      ]
     },
     "execution_count": 11,
     "metadata": {},
     "output_type": "execute_result"
    }
   ],
   "source": [
    "Psi0 = Psi0.subs(A, (2 * a / sp.pi) ** sp.Rational(1, 4))\n",
    "Psi0"
   ]
  }
 ],
 "metadata": {
  "kernelspec": {
   "display_name": "Python 3",
   "language": "python",
   "name": "python3"
  },
  "language_info": {
   "codemirror_mode": {
    "name": "ipython",
    "version": 3
   },
   "file_extension": ".py",
   "mimetype": "text/x-python",
   "name": "python",
   "nbconvert_exporter": "python",
   "pygments_lexer": "ipython3",
   "version": "3.8.8"
  }
 },
 "nbformat": 4,
 "nbformat_minor": 5
}
