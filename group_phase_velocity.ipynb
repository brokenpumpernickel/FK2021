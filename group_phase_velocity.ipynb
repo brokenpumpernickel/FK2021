{
 "cells": [
  {
   "cell_type": "code",
   "execution_count": null,
   "id": "reliable-victim",
   "metadata": {},
   "outputs": [],
   "source": [
    "import matplotlib.pyplot as plt\n",
    "import matplotlib.animation as animation\n",
    "from IPython.display import HTML\n",
    "import numpy as np"
   ]
  },
  {
   "cell_type": "code",
   "execution_count": 1,
   "id": "usual-columbus",
   "metadata": {},
   "outputs": [],
   "source": [
    "def coswave(x, t, k, w):\n",
    "    return np.cos(k * x - w(k) * t)"
   ]
  },
  {
   "cell_type": "code",
   "execution_count": null,
   "id": "happy-baking",
   "metadata": {},
   "outputs": [],
   "source": [
    "def wavepack(ks, w, time = 10, fps = 30, size = None, dpi = None, lw = 2):\n",
    "    if size is not None and dpi is not None:\n",
    "        size = (size[0] / dpi, size[1] / dpi)\n",
    "    \n",
    "    fig, axs = plt.subplots(len(ks) + 1, 1, sharex = True, gridspec_kw = {'height_ratios' : (1,) * len(ks) + (len(ks),)}, figsize = size, dpi = dpi)\n",
    "    for ax in axs[:-1]:\n",
    "        ax.set_xlim(-10, 10)\n",
    "        ax.set_ylim(-1.5, 1.5)\n",
    "        ax.grid(ls = '--')\n",
    "        ax.set_xticklabels([])\n",
    "        ax.set_yticklabels([])\n",
    "\n",
    "    axs[-1].set_xlim(-10, 10)\n",
    "    y_lim = len(ks) * 1.3\n",
    "    axs[-1].set_ylim(-y_lim, y_lim)\n",
    "    axs[-1].grid(ls = '--')\n",
    "    axs[-1].set_xticklabels([])\n",
    "    axs[-1].set_yticklabels([])    \n",
    "\n",
    "    lines = [ax.plot([], [], lw = lw)[0] for ax in axs]\n",
    "\n",
    "    dt = 1 / fps\n",
    "\n",
    "    plt.close()\n",
    "\n",
    "    xs = np.linspace(-11, 11, 1000)\n",
    "    \n",
    "    def animate(i):\n",
    "        superp = np.zeros_like(xs)\n",
    "        for k, line in zip(ks, lines[:-1]):\n",
    "            cw = coswave(xs, dt * i, k, w)\n",
    "            line.set_data(xs, cw)\n",
    "            superp += cw\n",
    "        lines[-1].set_data(xs, superp)\n",
    "        return lines\n",
    "\n",
    "    anim = animation.FuncAnimation(fig, animate, frames = time * fps, interval = 1000 * dt, blit = True)\n",
    "    return anim"
   ]
  },
  {
   "cell_type": "code",
   "execution_count": null,
   "id": "international-review",
   "metadata": {},
   "outputs": [],
   "source": [
    "width = 2000\n",
    "height = 1000\n",
    "dpi = 130\n",
    "time = 30"
   ]
  },
  {
   "cell_type": "markdown",
   "id": "opponent-chaos",
   "metadata": {},
   "source": [
    "$$\\omega(k)=10$$\n",
    "\n",
    "$$v_g = 0$$"
   ]
  },
  {
   "cell_type": "code",
   "execution_count": null,
   "id": "floppy-framework",
   "metadata": {},
   "outputs": [],
   "source": [
    "anim = wavepack((8, 9, 10), lambda k: 10, size = (width, height), dpi = dpi, time = time)\n",
    "HTML(anim.to_html5_video())"
   ]
  },
  {
   "cell_type": "markdown",
   "id": "hybrid-theme",
   "metadata": {},
   "source": [
    "$$\\omega(k)=k$$\n",
    "\n",
    "$$v_g = 1$$"
   ]
  },
  {
   "cell_type": "code",
   "execution_count": null,
   "id": "fabulous-interaction",
   "metadata": {},
   "outputs": [],
   "source": [
    "anim = wavepack((8, 9, 10), lambda k: k, size = (width, height), dpi = dpi, time = time)\n",
    "HTML(anim.to_html5_video())"
   ]
  },
  {
   "cell_type": "markdown",
   "id": "juvenile-penetration",
   "metadata": {},
   "source": [
    "$$\\omega(k)=k + 5$$\n",
    "\n",
    "$$v_g = 1$$"
   ]
  },
  {
   "cell_type": "code",
   "execution_count": null,
   "id": "incredible-energy",
   "metadata": {},
   "outputs": [],
   "source": [
    "anim = wavepack((8, 9, 10), lambda k: k + 5, size = (width, height), dpi = dpi, time = time)\n",
    "HTML(anim.to_html5_video())"
   ]
  },
  {
   "cell_type": "markdown",
   "id": "russian-bradford",
   "metadata": {},
   "source": [
    "$$\\omega(k)=k + 20$$\n",
    "\n",
    "$$v_g = 1$$"
   ]
  },
  {
   "cell_type": "code",
   "execution_count": null,
   "id": "stunning-winner",
   "metadata": {},
   "outputs": [],
   "source": [
    "anim = wavepack((8, 9, 10), lambda k: k + 20, size = (width, height), dpi = dpi, time = time)\n",
    "HTML(anim.to_html5_video())"
   ]
  },
  {
   "cell_type": "markdown",
   "id": "acceptable-vinyl",
   "metadata": {},
   "source": [
    "$$\\omega(k)=2k - 25$$\n",
    "\n",
    "$$v_g = 2$$"
   ]
  },
  {
   "cell_type": "code",
   "execution_count": null,
   "id": "interpreted-federal",
   "metadata": {},
   "outputs": [],
   "source": [
    "anim = wavepack((8, 9, 10), lambda k: 2 * k - 25, size = (width, height), dpi = dpi, time = time)\n",
    "HTML(anim.to_html5_video())"
   ]
  },
  {
   "cell_type": "markdown",
   "id": "impossible-studio",
   "metadata": {},
   "source": [
    "$$\\omega(k)=0.2 k^2$$\n",
    "\n",
    "$$v_g = 0.4 k$$"
   ]
  },
  {
   "cell_type": "code",
   "execution_count": null,
   "id": "assisted-mileage",
   "metadata": {},
   "outputs": [],
   "source": [
    "anim = wavepack((8, 9, 10), lambda k: 0.2 * k**2, size = (width, height), dpi = dpi, time = time)\n",
    "HTML(anim.to_html5_video())"
   ]
  }
 ],
 "metadata": {
  "kernelspec": {
   "display_name": "Python 3",
   "language": "python",
   "name": "python3"
  },
  "language_info": {
   "codemirror_mode": {
    "name": "ipython",
    "version": 3
   },
   "file_extension": ".py",
   "mimetype": "text/x-python",
   "name": "python",
   "nbconvert_exporter": "python",
   "pygments_lexer": "ipython3",
   "version": "3.8.8"
  }
 },
 "nbformat": 4,
 "nbformat_minor": 5
}
