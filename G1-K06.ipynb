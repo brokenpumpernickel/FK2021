{
 "cells": [
  {
   "cell_type": "code",
   "execution_count": 4,
   "id": "criminal-source",
   "metadata": {},
   "outputs": [],
   "source": [
    "import sympy as sp\n",
    "sp.init_printing()"
   ]
  },
  {
   "cell_type": "markdown",
   "id": "robust-winter",
   "metadata": {},
   "source": [
    "# MN24"
   ]
  },
  {
   "cell_type": "code",
   "execution_count": 5,
   "id": "attached-efficiency",
   "metadata": {},
   "outputs": [
    {
     "data": {
      "image/png": "[encoded data removed]",
      "text/latex": [
       "$\\displaystyle \\left( \\left[\\begin{matrix}5.0 i\\\\2\\\\- 1.0 i\\end{matrix}\\right], \\  \\left[\\begin{matrix}3\\\\8.0 i\\\\- 9.0 i\\end{matrix}\\right]\\right)$"
      ],
      "text/plain": [
       "⎛⎡5.0⋅ⅈ ⎤  ⎡  3   ⎤⎞\n",
       "⎜⎢      ⎥  ⎢      ⎥⎟\n",
       "⎜⎢  2   ⎥, ⎢8.0⋅ⅈ ⎥⎟\n",
       "⎜⎢      ⎥  ⎢      ⎥⎟\n",
       "⎝⎣-1.0⋅ⅈ⎦  ⎣-9.0⋅ⅈ⎦⎠"
      ]
     },
     "execution_count": 5,
     "metadata": {},
     "output_type": "execute_result"
    }
   ],
   "source": [
    "psi = sp.Matrix([5.j, 2, -1.j])\n",
    "xi = sp.Matrix([3, 8.j, -9.j])\n",
    "psi, xi"
   ]
  },
  {
   "cell_type": "code",
   "execution_count": 7,
   "id": "animated-solution",
   "metadata": {},
   "outputs": [
    {
     "data": {
      "image/png": "[encoded data removed]",
      "text/latex": [
       "$\\displaystyle \\left[\\begin{matrix}- 5.0 i & 2 & 1.0 i\\end{matrix}\\right]$"
      ],
      "text/plain": [
       "[-5.0⋅ⅈ  2  1.0⋅ⅈ]"
      ]
     },
     "execution_count": 7,
     "metadata": {},
     "output_type": "execute_result"
    }
   ],
   "source": [
    "psi.transpose().conjugate()"
   ]
  },
  {
   "cell_type": "code",
   "execution_count": 8,
   "id": "reserved-dialogue",
   "metadata": {},
   "outputs": [
    {
     "data": {
      "image/png": "[encoded data removed]",
      "text/latex": [
       "$\\displaystyle \\left[\\begin{matrix}30.0\\end{matrix}\\right]$"
      ],
      "text/plain": [
       "[30.0]"
      ]
     },
     "execution_count": 8,
     "metadata": {},
     "output_type": "execute_result"
    }
   ],
   "source": [
    "psi.transpose().conjugate() * psi"
   ]
  },
  {
   "cell_type": "code",
   "execution_count": 10,
   "id": "modern-mouth",
   "metadata": {},
   "outputs": [
    {
     "data": {
      "image/png": "[encoded data removed]",
      "text/latex": [
       "$\\displaystyle \\frac{\\sqrt{30} \\left[\\begin{matrix}5.0 i\\\\2\\\\- 1.0 i\\end{matrix}\\right]}{30}$"
      ],
      "text/plain": [
       "    ⎡5.0⋅ⅈ ⎤\n",
       "    ⎢      ⎥\n",
       "√30⋅⎢  2   ⎥\n",
       "    ⎢      ⎥\n",
       "    ⎣-1.0⋅ⅈ⎦\n",
       "────────────\n",
       "     30     "
      ]
     },
     "execution_count": 10,
     "metadata": {},
     "output_type": "execute_result"
    }
   ],
   "source": [
    "sp.UnevaluatedExpr(psi) / sp.sqrt(30)"
   ]
  },
  {
   "cell_type": "code",
   "execution_count": 13,
   "id": "declared-nightmare",
   "metadata": {},
   "outputs": [
    {
     "data": {
      "image/png": "[encoded data removed]",
      "text/latex": [
       "$\\displaystyle \\left(\\sqrt{30}\\right)^{-1} \\left[\\begin{matrix}5.0 i\\\\2\\\\- 1.0 i\\end{matrix}\\right]$"
      ],
      "text/plain": [
       "      ⎡5.0⋅ⅈ ⎤\n",
       "   -1 ⎢      ⎥\n",
       "√30  ⋅⎢  2   ⎥\n",
       "      ⎢      ⎥\n",
       "      ⎣-1.0⋅ⅈ⎦"
      ]
     },
     "execution_count": 13,
     "metadata": {},
     "output_type": "execute_result"
    }
   ],
   "source": [
    "psinorm = 1 / sp.UnevaluatedExpr(sp.sqrt(30)) * sp.UnevaluatedExpr(psi)\n",
    "psinorm"
   ]
  },
  {
   "cell_type": "code",
   "execution_count": 14,
   "id": "destroyed-connection",
   "metadata": {},
   "outputs": [
    {
     "data": {
      "image/png": "[encoded data removed]",
      "text/latex": [
       "$\\displaystyle \\left[\\begin{matrix}0.166666666666667 \\sqrt{30} i\\\\\\frac{\\sqrt{30}}{15}\\\\- 0.0333333333333333 \\sqrt{30} i\\end{matrix}\\right]$"
      ],
      "text/plain": [
       "⎡ 0.166666666666667⋅√30⋅ⅈ ⎤\n",
       "⎢                         ⎥\n",
       "⎢           √30           ⎥\n",
       "⎢           ───           ⎥\n",
       "⎢            15           ⎥\n",
       "⎢                         ⎥\n",
       "⎣-0.0333333333333333⋅√30⋅ⅈ⎦"
      ]
     },
     "execution_count": 14,
     "metadata": {},
     "output_type": "execute_result"
    }
   ],
   "source": [
    "psinorm.doit()"
   ]
  },
  {
   "cell_type": "code",
   "execution_count": 19,
   "id": "enormous-grace",
   "metadata": {},
   "outputs": [
    {
     "data": {
      "image/png": "[encoded data removed]",
      "text/latex": [
       "$\\displaystyle \\left[\\begin{matrix}9.0 + 1.0 i\\end{matrix}\\right]$"
      ],
      "text/plain": [
       "[9.0 + 1.0⋅ⅈ]"
      ]
     },
     "execution_count": 19,
     "metadata": {},
     "output_type": "execute_result"
    }
   ],
   "source": [
    "psi.transpose().conjugate() * xi"
   ]
  },
  {
   "cell_type": "markdown",
   "id": "dominican-wales",
   "metadata": {},
   "source": [
    "# MN28"
   ]
  },
  {
   "cell_type": "code",
   "execution_count": 28,
   "id": "commercial-portuguese",
   "metadata": {},
   "outputs": [
    {
     "data": {
      "image/png": "[encoded data removed]",
      "text/latex": [
       "$\\displaystyle \\frac{\\left[\\begin{matrix}2 & 0 & 0\\\\0 & 3 & -1\\\\0 & -1 & 3\\end{matrix}\\right]}{2}$"
      ],
      "text/plain": [
       "⎡2  0   0 ⎤\n",
       "⎢         ⎥\n",
       "⎢0  3   -1⎥\n",
       "⎢         ⎥\n",
       "⎣0  -1  3 ⎦\n",
       "───────────\n",
       "     2     "
      ]
     },
     "execution_count": 28,
     "metadata": {},
     "output_type": "execute_result"
    }
   ],
   "source": [
    "A = sp.Integer(1) / 2 * sp.UnevaluatedExpr(sp.Matrix([[2, 0, 0], [0, 3, -1], [0, -1, 3]]))\n",
    "A"
   ]
  },
  {
   "cell_type": "code",
   "execution_count": 29,
   "id": "armed-constant",
   "metadata": {},
   "outputs": [
    {
     "data": {
      "image/png": "[encoded data removed]",
      "text/latex": [
       "$\\displaystyle \\left[\\begin{matrix}1 & 0 & 0\\\\0 & \\frac{3}{2} & - \\frac{1}{2}\\\\0 & - \\frac{1}{2} & \\frac{3}{2}\\end{matrix}\\right]$"
      ],
      "text/plain": [
       "⎡1   0     0  ⎤\n",
       "⎢             ⎥\n",
       "⎢0  3/2   -1/2⎥\n",
       "⎢             ⎥\n",
       "⎣0  -1/2  3/2 ⎦"
      ]
     },
     "execution_count": 29,
     "metadata": {},
     "output_type": "execute_result"
    }
   ],
   "source": [
    "A = sp.Matrix([[2, 0, 0], [0, 3, -1], [0, -1, 3]]) / 2\n",
    "A"
   ]
  },
  {
   "cell_type": "code",
   "execution_count": 30,
   "id": "threaded-export",
   "metadata": {},
   "outputs": [
    {
     "data": {
      "image/png": "[encoded data removed]",
      "text/latex": [
       "$\\displaystyle \\left\\{ 1 : 2, \\  2 : 1\\right\\}$"
      ],
      "text/plain": [
       "{1: 2, 2: 1}"
      ]
     },
     "execution_count": 30,
     "metadata": {},
     "output_type": "execute_result"
    }
   ],
   "source": [
    "A.eigenvals()"
   ]
  },
  {
   "cell_type": "code",
   "execution_count": 32,
   "id": "municipal-absolute",
   "metadata": {},
   "outputs": [
    {
     "data": {
      "image/png": "[encoded data removed]",
      "text/latex": [
       "$\\displaystyle \\left[ \\left( 1, \\  2, \\  \\left[ \\left[\\begin{matrix}1\\\\0\\\\0\\end{matrix}\\right], \\  \\left[\\begin{matrix}0\\\\1\\\\1\\end{matrix}\\right]\\right]\\right), \\  \\left( 2, \\  1, \\  \\left[ \\left[\\begin{matrix}0\\\\-1\\\\1\\end{matrix}\\right]\\right]\\right)\\right]$"
      ],
      "text/plain": [
       "⎡⎛      ⎡⎡1⎤  ⎡0⎤⎤⎞  ⎛      ⎡⎡0 ⎤⎤⎞⎤\n",
       "⎢⎜      ⎢⎢ ⎥  ⎢ ⎥⎥⎟  ⎜      ⎢⎢  ⎥⎥⎟⎥\n",
       "⎢⎜1, 2, ⎢⎢0⎥, ⎢1⎥⎥⎟, ⎜2, 1, ⎢⎢-1⎥⎥⎟⎥\n",
       "⎢⎜      ⎢⎢ ⎥  ⎢ ⎥⎥⎟  ⎜      ⎢⎢  ⎥⎥⎟⎥\n",
       "⎣⎝      ⎣⎣0⎦  ⎣1⎦⎦⎠  ⎝      ⎣⎣1 ⎦⎦⎠⎦"
      ]
     },
     "execution_count": 32,
     "metadata": {},
     "output_type": "execute_result"
    }
   ],
   "source": [
    "vecs = A.eigenvects()\n",
    "vecs"
   ]
  },
  {
   "cell_type": "code",
   "execution_count": 37,
   "id": "mexican-farmer",
   "metadata": {},
   "outputs": [
    {
     "data": {
      "image/png": "[encoded data removed]",
      "text/latex": [
       "$\\displaystyle \\left( \\left[\\begin{matrix}1\\\\0\\\\0\\end{matrix}\\right], \\  \\left[\\begin{matrix}0\\\\\\frac{\\sqrt{2}}{2}\\\\\\frac{\\sqrt{2}}{2}\\end{matrix}\\right], \\  \\left[\\begin{matrix}0\\\\- \\frac{\\sqrt{2}}{2}\\\\\\frac{\\sqrt{2}}{2}\\end{matrix}\\right]\\right)$"
      ],
      "text/plain": [
       "⎛     ⎡0 ⎤  ⎡ 0  ⎤⎞\n",
       "⎜     ⎢  ⎥  ⎢    ⎥⎟\n",
       "⎜⎡1⎤  ⎢√2⎥  ⎢-√2 ⎥⎟\n",
       "⎜⎢ ⎥  ⎢──⎥  ⎢────⎥⎟\n",
       "⎜⎢0⎥, ⎢2 ⎥, ⎢ 2  ⎥⎟\n",
       "⎜⎢ ⎥  ⎢  ⎥  ⎢    ⎥⎟\n",
       "⎜⎣0⎦  ⎢√2⎥  ⎢ √2 ⎥⎟\n",
       "⎜     ⎢──⎥  ⎢ ── ⎥⎟\n",
       "⎝     ⎣2 ⎦  ⎣ 2  ⎦⎠"
      ]
     },
     "execution_count": 37,
     "metadata": {},
     "output_type": "execute_result"
    }
   ],
   "source": [
    "v11 = vecs[0][2][0].normalized()\n",
    "v12 = vecs[0][2][1].normalized()\n",
    "v2 = vecs[1][2][0].normalized()\n",
    "v11, v12, v2"
   ]
  },
  {
   "cell_type": "code",
   "execution_count": 35,
   "id": "described-position",
   "metadata": {},
   "outputs": [
    {
     "data": {
      "image/png": "[encoded data removed]",
      "text/latex": [
       "$\\displaystyle \\left[\\begin{matrix}0\\\\\\frac{\\sqrt{2}}{2}\\\\\\frac{\\sqrt{2}}{2}\\end{matrix}\\right]$"
      ],
      "text/plain": [
       "⎡0 ⎤\n",
       "⎢  ⎥\n",
       "⎢√2⎥\n",
       "⎢──⎥\n",
       "⎢2 ⎥\n",
       "⎢  ⎥\n",
       "⎢√2⎥\n",
       "⎢──⎥\n",
       "⎣2 ⎦"
      ]
     },
     "execution_count": 35,
     "metadata": {},
     "output_type": "execute_result"
    }
   ],
   "source": [
    "v12 / v12.norm()"
   ]
  },
  {
   "cell_type": "code",
   "execution_count": 36,
   "id": "cardiac-picking",
   "metadata": {},
   "outputs": [
    {
     "data": {
      "image/png": "[encoded data removed]",
      "text/latex": [
       "$\\displaystyle \\left[\\begin{matrix}0\\\\\\frac{\\sqrt{2}}{2}\\\\\\frac{\\sqrt{2}}{2}\\end{matrix}\\right]$"
      ],
      "text/plain": [
       "⎡0 ⎤\n",
       "⎢  ⎥\n",
       "⎢√2⎥\n",
       "⎢──⎥\n",
       "⎢2 ⎥\n",
       "⎢  ⎥\n",
       "⎢√2⎥\n",
       "⎢──⎥\n",
       "⎣2 ⎦"
      ]
     },
     "execution_count": 36,
     "metadata": {},
     "output_type": "execute_result"
    }
   ],
   "source": [
    "v12.normalized()"
   ]
  },
  {
   "cell_type": "code",
   "execution_count": 41,
   "id": "smart-violation",
   "metadata": {},
   "outputs": [
    {
     "data": {
      "image/png": "[encoded data removed]",
      "text/latex": [
       "$\\displaystyle \\left[\\begin{matrix}0.916666666666667\\end{matrix}\\right]$"
      ],
      "text/plain": [
       "[0.916666666666667]"
      ]
     },
     "execution_count": 41,
     "metadata": {},
     "output_type": "execute_result"
    }
   ],
   "source": [
    "p1 = sp.Abs(v11.transpose().conjugate() * psinorm.doit())**2 + sp.Abs(v12.transpose().conjugate() * psinorm.doit())**2\n",
    "p1"
   ]
  },
  {
   "cell_type": "code",
   "execution_count": 42,
   "id": "compressed-clear",
   "metadata": {},
   "outputs": [
    {
     "data": {
      "image/png": "[encoded data removed]",
      "text/latex": [
       "$\\displaystyle 0.916666666666667$"
      ],
      "text/plain": [
       "0.9166666666666666"
      ]
     },
     "execution_count": 42,
     "metadata": {},
     "output_type": "execute_result"
    }
   ],
   "source": [
    "11 / 12"
   ]
  },
  {
   "cell_type": "code",
   "execution_count": 43,
   "id": "behavioral-composition",
   "metadata": {},
   "outputs": [
    {
     "data": {
      "image/png": "[encoded data removed]",
      "text/latex": [
       "$\\displaystyle \\left[\\begin{matrix}0.0833333333333333\\end{matrix}\\right]$"
      ],
      "text/plain": [
       "[0.0833333333333333]"
      ]
     },
     "execution_count": 43,
     "metadata": {},
     "output_type": "execute_result"
    }
   ],
   "source": [
    "p2 = sp.Abs(v2.transpose().conjugate() * psinorm.doit())**2\n",
    "p2"
   ]
  },
  {
   "cell_type": "code",
   "execution_count": 44,
   "id": "powered-refrigerator",
   "metadata": {},
   "outputs": [
    {
     "data": {
      "image/png": "[encoded data removed]",
      "text/latex": [
       "$\\displaystyle 0.0833333333333333$"
      ],
      "text/plain": [
       "0.08333333333333333"
      ]
     },
     "execution_count": 44,
     "metadata": {},
     "output_type": "execute_result"
    }
   ],
   "source": [
    "1 / 12"
   ]
  },
  {
   "cell_type": "code",
   "execution_count": 45,
   "id": "posted-distance",
   "metadata": {},
   "outputs": [
    {
     "data": {
      "image/png": "[encoded data removed]",
      "text/latex": [
       "$\\displaystyle \\left[\\begin{matrix}1.0\\end{matrix}\\right]$"
      ],
      "text/plain": [
       "[1.0]"
      ]
     },
     "execution_count": 45,
     "metadata": {},
     "output_type": "execute_result"
    }
   ],
   "source": [
    "p1 + p2"
   ]
  }
 ],
 "metadata": {
  "kernelspec": {
   "display_name": "Python 3",
   "language": "python",
   "name": "python3"
  },
  "language_info": {
   "codemirror_mode": {
    "name": "ipython",
    "version": 3
   },
   "file_extension": ".py",
   "mimetype": "text/x-python",
   "name": "python",
   "nbconvert_exporter": "python",
   "pygments_lexer": "ipython3",
   "version": "3.8.8"
  }
 },
 "nbformat": 4,
 "nbformat_minor": 5
}
