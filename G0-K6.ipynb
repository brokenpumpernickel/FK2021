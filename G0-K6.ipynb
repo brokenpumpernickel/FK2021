{
 "cells": [
  {
   "cell_type": "code",
   "execution_count": 76,
   "id": "comfortable-wrong",
   "metadata": {},
   "outputs": [],
   "source": [
    "import sympy as sp\n",
    "sp.init_printing()"
   ]
  },
  {
   "cell_type": "markdown",
   "id": "legislative-mailman",
   "metadata": {},
   "source": [
    "# MN24"
   ]
  },
  {
   "cell_type": "code",
   "execution_count": 3,
   "id": "retired-cyprus",
   "metadata": {},
   "outputs": [],
   "source": [
    "psi = sp.Matrix([5*1.j, 2, -1.j])"
   ]
  },
  {
   "cell_type": "code",
   "execution_count": 4,
   "id": "conventional-religion",
   "metadata": {},
   "outputs": [
    {
     "data": {
      "text/latex": [
       "$\\displaystyle \\left[\\begin{matrix}5.0 i\\\\2\\\\- 1.0 i\\end{matrix}\\right]$"
      ],
      "text/plain": [
       "Matrix([\n",
       "[ 5.0*I],\n",
       "[     2],\n",
       "[-1.0*I]])"
      ]
     },
     "execution_count": 4,
     "metadata": {},
     "output_type": "execute_result"
    }
   ],
   "source": [
    "psi"
   ]
  },
  {
   "cell_type": "code",
   "execution_count": 14,
   "id": "cheap-casting",
   "metadata": {},
   "outputs": [
    {
     "data": {
      "text/latex": [
       "$\\displaystyle 30.0$"
      ],
      "text/plain": [
       "30.0000000000000"
      ]
     },
     "execution_count": 14,
     "metadata": {},
     "output_type": "execute_result"
    }
   ],
   "source": [
    "psi.conjugate().dot(psi)"
   ]
  },
  {
   "cell_type": "code",
   "execution_count": 56,
   "id": "burning-federation",
   "metadata": {},
   "outputs": [
    {
     "data": {
      "text/latex": [
       "$\\displaystyle \\frac{\\sqrt{30} \\left[\\begin{matrix}5.0 i\\\\2\\\\- 1.0 i\\end{matrix}\\right]}{30}$"
      ],
      "text/plain": [
       "sqrt(30)*Matrix([\n",
       "[ 5.0*I],\n",
       "[     2],\n",
       "[-1.0*I]])/30"
      ]
     },
     "execution_count": 56,
     "metadata": {},
     "output_type": "execute_result"
    }
   ],
   "source": [
    "1 /sp.sqrt(30) * sp.UnevaluatedExpr(psi)"
   ]
  },
  {
   "cell_type": "code",
   "execution_count": 40,
   "id": "explicit-daniel",
   "metadata": {},
   "outputs": [
    {
     "data": {
      "text/latex": [
       "$\\displaystyle \\left[\\begin{matrix}3\\\\8.0 i\\\\- 9.0 i\\end{matrix}\\right]$"
      ],
      "text/plain": [
       "Matrix([\n",
       "[     3],\n",
       "[ 8.0*I],\n",
       "[-9.0*I]])"
      ]
     },
     "execution_count": 40,
     "metadata": {},
     "output_type": "execute_result"
    }
   ],
   "source": [
    "xi = sp.Matrix([3, 8.j, -9.j])\n",
    "xi"
   ]
  },
  {
   "cell_type": "code",
   "execution_count": 63,
   "id": "hispanic-argentina",
   "metadata": {},
   "outputs": [
    {
     "data": {
      "text/latex": [
       "$\\displaystyle \\left[\\begin{matrix}9.0 - 1.0 i\\end{matrix}\\right]$"
      ],
      "text/plain": [
       "Matrix([[9.0 - 1.0*I]])"
      ]
     },
     "execution_count": 63,
     "metadata": {},
     "output_type": "execute_result"
    }
   ],
   "source": [
    "xi.transpose().conjugate() * psi"
   ]
  },
  {
   "cell_type": "markdown",
   "id": "organic-johnson",
   "metadata": {},
   "source": [
    "# MN28"
   ]
  },
  {
   "cell_type": "code",
   "execution_count": 69,
   "id": "subjective-personal",
   "metadata": {},
   "outputs": [
    {
     "data": {
      "text/latex": [
       "$\\displaystyle \\frac{1}{2} \\left[\\begin{matrix}2 & 0 & 0\\\\0 & 3 & -1\\\\0 & -1 & 3\\end{matrix}\\right]$"
      ],
      "text/plain": [
       "(1/2)*Matrix([\n",
       "[2,  0,  0],\n",
       "[0,  3, -1],\n",
       "[0, -1,  3]])"
      ]
     },
     "execution_count": 69,
     "metadata": {},
     "output_type": "execute_result"
    }
   ],
   "source": [
    "A = sp.UnevaluatedExpr(sp.Rational(1, 2)) * sp.UnevaluatedExpr(sp.Matrix([[2, 0, 0], [0, 3, -1], [0, -1, 3]]))\n",
    "A"
   ]
  },
  {
   "cell_type": "code",
   "execution_count": 73,
   "id": "steady-preservation",
   "metadata": {},
   "outputs": [
    {
     "data": {
      "text/plain": [
       "{1: 2, 2: 1}"
      ]
     },
     "execution_count": 73,
     "metadata": {},
     "output_type": "execute_result"
    }
   ],
   "source": [
    "A.doit().eigenvals()"
   ]
  },
  {
   "cell_type": "code",
   "execution_count": 82,
   "id": "dental-voluntary",
   "metadata": {},
   "outputs": [
    {
     "data": {
      "image/png": "[encoded data removed]",
      "text/latex": [
       "$\\displaystyle \\left[ \\left( 1, \\  2, \\  \\left[ \\left[\\begin{matrix}1\\\\0\\\\0\\end{matrix}\\right], \\  \\left[\\begin{matrix}0\\\\1\\\\1\\end{matrix}\\right]\\right]\\right), \\  \\left( 2, \\  1, \\  \\left[ \\left[\\begin{matrix}0\\\\-1\\\\1\\end{matrix}\\right]\\right]\\right)\\right]$"
      ],
      "text/plain": [
       "⎡⎛      ⎡⎡1⎤  ⎡0⎤⎤⎞  ⎛      ⎡⎡0 ⎤⎤⎞⎤\n",
       "⎢⎜      ⎢⎢ ⎥  ⎢ ⎥⎥⎟  ⎜      ⎢⎢  ⎥⎥⎟⎥\n",
       "⎢⎜1, 2, ⎢⎢0⎥, ⎢1⎥⎥⎟, ⎜2, 1, ⎢⎢-1⎥⎥⎟⎥\n",
       "⎢⎜      ⎢⎢ ⎥  ⎢ ⎥⎥⎟  ⎜      ⎢⎢  ⎥⎥⎟⎥\n",
       "⎣⎝      ⎣⎣0⎦  ⎣1⎦⎦⎠  ⎝      ⎣⎣1 ⎦⎦⎠⎦"
      ]
     },
     "execution_count": 82,
     "metadata": {},
     "output_type": "execute_result"
    }
   ],
   "source": [
    "vecs = A.doit().eigenvects()\n",
    "vecs"
   ]
  },
  {
   "cell_type": "code",
   "execution_count": 87,
   "id": "round-copyright",
   "metadata": {},
   "outputs": [
    {
     "data": {
      "image/png": "[encoded data removed]",
      "text/latex": [
       "$\\displaystyle \\left( \\left[\\begin{matrix}1\\\\0\\\\0\\end{matrix}\\right], \\  \\left[\\begin{matrix}0\\\\\\frac{\\sqrt{2}}{2}\\\\\\frac{\\sqrt{2}}{2}\\end{matrix}\\right], \\  \\left[\\begin{matrix}0\\\\- \\frac{\\sqrt{2}}{2}\\\\\\frac{\\sqrt{2}}{2}\\end{matrix}\\right]\\right)$"
      ],
      "text/plain": [
       "⎛     ⎡0 ⎤  ⎡ 0  ⎤⎞\n",
       "⎜     ⎢  ⎥  ⎢    ⎥⎟\n",
       "⎜⎡1⎤  ⎢√2⎥  ⎢-√2 ⎥⎟\n",
       "⎜⎢ ⎥  ⎢──⎥  ⎢────⎥⎟\n",
       "⎜⎢0⎥, ⎢2 ⎥, ⎢ 2  ⎥⎟\n",
       "⎜⎢ ⎥  ⎢  ⎥  ⎢    ⎥⎟\n",
       "⎜⎣0⎦  ⎢√2⎥  ⎢ √2 ⎥⎟\n",
       "⎜     ⎢──⎥  ⎢ ── ⎥⎟\n",
       "⎝     ⎣2 ⎦  ⎣ 2  ⎦⎠"
      ]
     },
     "execution_count": 87,
     "metadata": {},
     "output_type": "execute_result"
    }
   ],
   "source": [
    "v11 = vecs[0][2][0]\n",
    "v12 = vecs[0][2][1].normalized()\n",
    "v2 = vecs[1][2][0].normalized()\n",
    "v11, v12, v2"
   ]
  },
  {
   "cell_type": "code",
   "execution_count": 92,
   "id": "regulation-vampire",
   "metadata": {},
   "outputs": [
    {
     "data": {
      "image/png": "[encoded data removed]",
      "text/latex": [
       "$\\displaystyle \\left[\\begin{matrix}0.0833333333333333\\end{matrix}\\right]$"
      ],
      "text/plain": [
       "[0.0833333333333333]"
      ]
     },
     "execution_count": 92,
     "metadata": {},
     "output_type": "execute_result"
    }
   ],
   "source": [
    "p2 = sp.Abs(v2.normalized().conjugate().transpose() * psi.normalized())**2\n",
    "p2"
   ]
  },
  {
   "cell_type": "code",
   "execution_count": 91,
   "id": "superb-addiction",
   "metadata": {},
   "outputs": [
    {
     "data": {
      "image/png": "[encoded data removed]",
      "text/latex": [
       "$\\displaystyle 0.0833333333333333$"
      ],
      "text/plain": [
       "0.08333333333333333"
      ]
     },
     "execution_count": 91,
     "metadata": {},
     "output_type": "execute_result"
    }
   ],
   "source": [
    "1 / 12"
   ]
  },
  {
   "cell_type": "code",
   "execution_count": 93,
   "id": "herbal-pantyhose",
   "metadata": {},
   "outputs": [
    {
     "data": {
      "image/png": "[encoded data removed]",
      "text/latex": [
       "$\\displaystyle \\left[\\begin{matrix}0.916666666666667\\end{matrix}\\right]$"
      ],
      "text/plain": [
       "[0.916666666666667]"
      ]
     },
     "execution_count": 93,
     "metadata": {},
     "output_type": "execute_result"
    }
   ],
   "source": [
    "p1 = sp.Abs(v11.normalized().conjugate().transpose() * psi.normalized())**2 + sp.Abs(v12.normalized().conjugate().transpose() * psi.normalized())**2\n",
    "p1"
   ]
  },
  {
   "cell_type": "code",
   "execution_count": 94,
   "id": "mexican-steps",
   "metadata": {},
   "outputs": [
    {
     "data": {
      "image/png": "[encoded data removed]",
      "text/latex": [
       "$\\displaystyle 0.916666666666667$"
      ],
      "text/plain": [
       "0.9166666666666666"
      ]
     },
     "execution_count": 94,
     "metadata": {},
     "output_type": "execute_result"
    }
   ],
   "source": [
    "11/12"
   ]
  },
  {
   "cell_type": "code",
   "execution_count": 95,
   "id": "operational-attention",
   "metadata": {},
   "outputs": [
    {
     "data": {
      "image/png": "[encoded data removed]",
      "text/latex": [
       "$\\displaystyle \\left[\\begin{matrix}1.0\\end{matrix}\\right]$"
      ],
      "text/plain": [
       "[1.0]"
      ]
     },
     "execution_count": 95,
     "metadata": {},
     "output_type": "execute_result"
    }
   ],
   "source": [
    "p1 + p2"
   ]
  },
  {
   "cell_type": "markdown",
   "id": "fleet-macintosh",
   "metadata": {},
   "source": [
    "# MN31"
   ]
  },
  {
   "cell_type": "code",
   "execution_count": 96,
   "id": "square-alaska",
   "metadata": {},
   "outputs": [
    {
     "data": {
      "image/png": "[encoded data removed]",
      "text/latex": [
       "$\\displaystyle \\left[\\begin{matrix}h & g\\\\g & h\\end{matrix}\\right]$"
      ],
      "text/plain": [
       "⎡h  g⎤\n",
       "⎢    ⎥\n",
       "⎣g  h⎦"
      ]
     },
     "execution_count": 96,
     "metadata": {},
     "output_type": "execute_result"
    }
   ],
   "source": [
    "h = sp.Symbol('h')\n",
    "g = sp.Symbol('g')\n",
    "H = sp.Matrix([[h, g], [g, h]])\n",
    "H"
   ]
  },
  {
   "cell_type": "code",
   "execution_count": 97,
   "id": "empty-anger",
   "metadata": {},
   "outputs": [
    {
     "data": {
      "image/png": "[encoded data removed]",
      "text/latex": [
       "$\\displaystyle \\left\\{ - g + h : 1, \\  g + h : 1\\right\\}$"
      ],
      "text/plain": [
       "{-g + h: 1, g + h: 1}"
      ]
     },
     "execution_count": 97,
     "metadata": {},
     "output_type": "execute_result"
    }
   ],
   "source": [
    "H.eigenvals()"
   ]
  },
  {
   "cell_type": "code",
   "execution_count": 98,
   "id": "received-campbell",
   "metadata": {},
   "outputs": [
    {
     "data": {
      "image/png": "[encoded data removed]",
      "text/latex": [
       "$\\displaystyle \\left[ \\left( - g + h, \\  1, \\  \\left[ \\left[\\begin{matrix}-1\\\\1\\end{matrix}\\right]\\right]\\right), \\  \\left( g + h, \\  1, \\  \\left[ \\left[\\begin{matrix}1\\\\1\\end{matrix}\\right]\\right]\\right)\\right]$"
      ],
      "text/plain": [
       "⎡⎛           ⎡⎡-1⎤⎤⎞  ⎛          ⎡⎡1⎤⎤⎞⎤\n",
       "⎢⎜-g + h, 1, ⎢⎢  ⎥⎥⎟, ⎜g + h, 1, ⎢⎢ ⎥⎥⎟⎥\n",
       "⎣⎝           ⎣⎣1 ⎦⎦⎠  ⎝          ⎣⎣1⎦⎦⎠⎦"
      ]
     },
     "execution_count": 98,
     "metadata": {},
     "output_type": "execute_result"
    }
   ],
   "source": [
    "H.eigenvects()"
   ]
  }
 ],
 "metadata": {
  "kernelspec": {
   "display_name": "Python 3",
   "language": "python",
   "name": "python3"
  },
  "language_info": {
   "codemirror_mode": {
    "name": "ipython",
    "version": 3
   },
   "file_extension": ".py",
   "mimetype": "text/x-python",
   "name": "python",
   "nbconvert_exporter": "python",
   "pygments_lexer": "ipython3",
   "version": "3.8.8"
  }
 },
 "nbformat": 4,
 "nbformat_minor": 5
}
